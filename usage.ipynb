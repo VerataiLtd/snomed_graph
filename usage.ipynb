{
 "cells": [
  {
   "cell_type": "markdown",
   "id": "3aebf276-0135-44b2-88cd-e919f32e937d",
   "metadata": {},
   "source": [
    "# SnomedGraph\n",
    "\n",
    "Turns a SNOMED CT concept set into a graph."
   ]
  },
  {
   "cell_type": "code",
   "execution_count": 1,
   "id": "26c0a7ab-31d4-4494-bbcd-6ae0f5f69a4a",
   "metadata": {},
   "outputs": [],
   "source": [
    "from snomed_graph import SnomedGraph"
   ]
  },
  {
   "cell_type": "code",
   "execution_count": 2,
   "id": "3d1155a6-fe70-4ee1-92c4-623cf13cfbe5",
   "metadata": {},
   "outputs": [],
   "source": [
    "# Load from RF2 path\n",
    "# N.B. the folder must be named with the proper release name: e.g. \"SnomedCT_InternationalRF2_PRODUCTION_20230531T120000Z\"\n",
    "SG = SnomedGraph.from_rfs(\"SnomedCT_InternationalRF2_PRODUCTION_20230531T120000Z\")"
   ]
  },
  {
   "cell_type": "code",
   "execution_count": 5,
   "id": "dbbdbe2b-891f-49bc-94be-9be00232fa4a",
   "metadata": {},
   "outputs": [
    {
     "name": "stdout",
     "output_type": "stream",
     "text": [
      "SNOMED graph has 503728 vertices and 1179749 edges\n"
     ]
    }
   ],
   "source": [
    "# Load from a previously serialised SnomedGraph\n",
    "SG = SnomedGraph.from_serialized(\"full_concept_graph.gml\")"
   ]
  },
  {
   "cell_type": "code",
   "execution_count": 19,
   "id": "eb5623b0-2b15-4230-8bb3-7a9b19896c73",
   "metadata": {},
   "outputs": [
    {
     "name": "stdout",
     "output_type": "stream",
     "text": [
      "SCTID:\t\t35241000\n",
      "FSN:\t\tCholecystostomy (procedure)\n",
      "Synonyms:\t['Cholecystostomy']\n",
      "\n",
      "Parents:\n",
      "\t45584003 | Repair of gallbladder (procedure)\n",
      "\t363123009 | Exteriorization by anatomic site (procedure)\n",
      "\n",
      "Children:\n",
      "\t174525001 | Percutaneous cholecystostomy (procedure)\n",
      "\t66444008 | Irrigation cholecystostomy (procedure)\n",
      "\t439781002 | Insertion of peripancreatic drain with cholecystostomy (procedure)\n",
      "\t450500003 | Laparoscopic cholecystostomy (procedure)\n",
      "\t711210005 | Cholecystostomy using computed tomography guidance (procedure)\n",
      "\t711424006 | Cholecystostomy using ultrasonographic guidance (procedure)\n",
      "\n",
      "Inferred Relationships:\n",
      "\tGroup 1\n",
      "\t\t---[Method (attribute)]--->\t129354008 | Exteriorization - action (qualifier value)\n",
      "\t\t---[Procedure site - Direct (attribute)]--->\t28231008 | Gallbladder structure (body structure)\n"
     ]
    }
   ],
   "source": [
    "# View a Concept\n",
    "SG.summarise_concept(35241000)"
   ]
  },
  {
   "cell_type": "code",
   "execution_count": 20,
   "id": "fc4ab6de-a5db-4587-bc43-0347d7947a59",
   "metadata": {},
   "outputs": [
    {
     "data": {
      "text/plain": [
       "{'concept_id': 35241000,\n",
       " 'name': 'Cholecystostomy (procedure)',\n",
       " 'synonyms': ['Cholecystostomy']}"
      ]
     },
     "execution_count": 20,
     "metadata": {},
     "output_type": "execute_result"
    }
   ],
   "source": [
    "# Get a concept\n",
    "SG.get_concept(35241000)"
   ]
  },
  {
   "cell_type": "code",
   "execution_count": 16,
   "id": "286f9b59-a753-447c-9be2-32efd95dcc9b",
   "metadata": {},
   "outputs": [
    {
     "data": {
      "text/plain": [
       "[{'name': 'Repair of gallbladder (procedure)', 'concept_id': 45584003},\n",
       " {'name': 'Exteriorization by anatomic site (procedure)',\n",
       "  'concept_id': 363123009}]"
      ]
     },
     "execution_count": 16,
     "metadata": {},
     "output_type": "execute_result"
    }
   ],
   "source": [
    "# Parents\n",
    "SG.get_parents(35241000)"
   ]
  },
  {
   "cell_type": "code",
   "execution_count": 17,
   "id": "37fafccb-e638-4a75-9ef5-223689f20f89",
   "metadata": {},
   "outputs": [
    {
     "data": {
      "text/plain": [
       "[{'name': 'Percutaneous cholecystostomy (procedure)', 'concept_id': 174525001},\n",
       " {'name': 'Irrigation cholecystostomy (procedure)', 'concept_id': 66444008},\n",
       " {'name': 'Insertion of peripancreatic drain with cholecystostomy (procedure)',\n",
       "  'concept_id': 439781002},\n",
       " {'name': 'Laparoscopic cholecystostomy (procedure)', 'concept_id': 450500003},\n",
       " {'name': 'Cholecystostomy using computed tomography guidance (procedure)',\n",
       "  'concept_id': 711210005},\n",
       " {'name': 'Cholecystostomy using ultrasonographic guidance (procedure)',\n",
       "  'concept_id': 711424006}]"
      ]
     },
     "execution_count": 17,
     "metadata": {},
     "output_type": "execute_result"
    }
   ],
   "source": [
    "# Children\n",
    "SG.get_children(35241000)"
   ]
  },
  {
   "cell_type": "code",
   "execution_count": 18,
   "id": "1cde393f-2b93-428e-bbe3-0e0b178db108",
   "metadata": {},
   "outputs": [
    {
     "data": {
      "text/plain": [
       "{1: [{'type': 'Method (attribute)',\n",
       "   'name': 'Exteriorization - action (qualifier value)',\n",
       "   'concept_id': 129354008},\n",
       "  {'type': 'Procedure site - Direct (attribute)',\n",
       "   'name': 'Gallbladder structure (body structure)',\n",
       "   'concept_id': 28231008}]}"
      ]
     },
     "execution_count": 18,
     "metadata": {},
     "output_type": "execute_result"
    }
   ],
   "source": [
    "# Get inferred relationships (except parents)\n",
    "SG.get_inferred_relationships(35241000)"
   ]
  },
  {
   "cell_type": "code",
   "execution_count": 21,
   "id": "6181c8ca-7eb1-4633-a551-907a37a7ac3a",
   "metadata": {},
   "outputs": [],
   "source": [
    "# Iterate over concepts:\n",
    "for concept in iter(SG):\n",
    "    pass"
   ]
  },
  {
   "cell_type": "code",
   "execution_count": null,
   "id": "0e2615b7-3914-4b76-90c5-74f759d9e270",
   "metadata": {},
   "outputs": [],
   "source": [
    "# Serialize\n",
    "SG.save(\"full_concept_graph.gml\")"
   ]
  }
 ],
 "metadata": {
  "kernelspec": {
   "display_name": "Python 3 (ipykernel)",
   "language": "python",
   "name": "python3"
  },
  "language_info": {
   "codemirror_mode": {
    "name": "ipython",
    "version": 3
   },
   "file_extension": ".py",
   "mimetype": "text/x-python",
   "name": "python",
   "nbconvert_exporter": "python",
   "pygments_lexer": "ipython3",
   "version": "3.10.12"
  }
 },
 "nbformat": 4,
 "nbformat_minor": 5
}
