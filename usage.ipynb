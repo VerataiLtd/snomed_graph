{
 "cells": [
  {
   "cell_type": "markdown",
   "id": "3aebf276-0135-44b2-88cd-e919f32e937d",
   "metadata": {},
   "source": [
    "# SnomedGraph\n",
    "\n",
    "Turns a SNOMED CT concept set into a graph."
   ]
  },
  {
   "cell_type": "code",
   "execution_count": 1,
   "id": "41669509-5e4a-4c0b-9d46-64da7b7cbc72",
   "metadata": {},
   "outputs": [],
   "source": [
    "from snomed_graph import *"
   ]
  },
  {
   "cell_type": "code",
   "execution_count": 2,
   "id": "3d1155a6-fe70-4ee1-92c4-623cf13cfbe5",
   "metadata": {
    "scrolled": true
   },
   "outputs": [
    {
     "name": "stdout",
     "output_type": "stream",
     "text": [
      "1308376 terms and 1230261 relationships were found in the release.\n",
      "Creating Relationships...\n"
     ]
    },
    {
     "data": {
      "application/vnd.jupyter.widget-view+json": {
       "model_id": "9b0fcdd4ef714c82bafa21bb76a1c4ae",
       "version_major": 2,
       "version_minor": 0
      },
      "text/plain": [
       "  0%|          | 0/1230261 [00:00<?, ?it/s]"
      ]
     },
     "metadata": {},
     "output_type": "display_data"
    },
    {
     "name": "stdout",
     "output_type": "stream",
     "text": [
      "Adding Concepts...\n"
     ]
    },
    {
     "data": {
      "application/vnd.jupyter.widget-view+json": {
       "model_id": "b16f8f84537c412daef3eabe97700aef",
       "version_major": 2,
       "version_minor": 0
      },
      "text/plain": [
       "  0%|          | 0/503728 [00:00<?, ?it/s]"
      ]
     },
     "metadata": {},
     "output_type": "display_data"
    },
    {
     "name": "stdout",
     "output_type": "stream",
     "text": [
      "Concept with SCTID 286794000 has no FSN. Using synonym 'Detained in hospital under the Mental Health Act 1983 (E&W)' instead.\n",
      "Concept with SCTID 286799005 has no FSN. Using synonym 'Detained in hospital under Section 2 of the MHA 1983' instead.\n",
      "Concept with SCTID 286803006 has no FSN. Using synonym 'S3 MHA - Detained in hospital under Section 3 of the Mental Health Act 1983 (England and Wales)' instead.\n",
      "Concept with SCTID 286807007 has no FSN. Using synonym 'Detained under emergency powers in hospital under Section 4 of the Mental Health Act 1983' instead.\n",
      "Concept with SCTID 286808002 has no FSN. Using synonym 'Detained in hospital under Section 5 of the MHA 1983' instead.\n",
      "Concept with SCTID 286809005 has no FSN. Using synonym 'Detained in hospital under nurses' holding power under Section 5(4) of the Mental Health Act 1983' instead.\n",
      "Concept with SCTID 286810000 has no FSN. Using synonym 'Detained in hosp under Sectn 5(2) Ment Health Act 83 E&W' instead.\n",
      "Concept with SCTID 292871007 has no FSN. Using synonym 'Bismuth subnitrate & iodoform paste impreg gauze advers reac' instead.\n",
      "Concept with SCTID 298430001 has no FSN. Using synonym 'Increased active range cervical spine right side flexion' instead.\n",
      "Concept with SCTID 298431002 has no FSN. Using synonym 'Decreased active range of cervical spine right side flexion' instead.\n",
      "Concept with SCTID 298435006 has no FSN. Using synonym 'Increased passive range cervical spine right lateral flexion' instead.\n",
      "Concept with SCTID 298436007 has no FSN. Using synonym 'Decreased passive range of cervical spine right side flexion' instead.\n",
      "Concept with SCTID 298441004 has no FSN. Using synonym 'Increased active range cervical spine left lateral flexion' instead.\n",
      "Concept with SCTID 298442006 has no FSN. Using synonym 'Decreased active range of cervical spine left side flexion' instead.\n",
      "Concept with SCTID 298446009 has no FSN. Using synonym 'Increased passive range cervical spine left lateral flexion' instead.\n",
      "Concept with SCTID 298447000 has no FSN. Using synonym 'Decreased passive range of cervical spine left side flexion' instead.\n",
      "Concept with SCTID 298532007 has no FSN. Using synonym 'Increased active range of dorsal spine right lateral flexion' instead.\n",
      "Concept with SCTID 298533002 has no FSN. Using synonym 'Decreased active range thoracic spine right lateral flexion' instead.\n",
      "Concept with SCTID 298537001 has no FSN. Using synonym 'Increased passive range of thoracic spine right side flexion' instead.\n",
      "Concept with SCTID 298538006 has no FSN. Using synonym 'Decreased passive range thoracic spine right lateral flexion' instead.\n",
      "Concept with SCTID 298543004 has no FSN. Using synonym 'Increased active range of thoracic spine left side flexion' instead.\n",
      "Concept with SCTID 298544005 has no FSN. Using synonym 'Decreased active range of thoracic spine left side flexion' instead.\n",
      "Concept with SCTID 298548008 has no FSN. Using synonym 'Increased passive range of dorsal spine left side flexion' instead.\n",
      "Concept with SCTID 298549000 has no FSN. Using synonym 'Decreased passive range thoracic spine left lateral flexion' instead.\n",
      "Concept with SCTID 298577009 has no FSN. Using synonym 'Observation of sensation of musculoskeletal structure of dorsal spine' instead.\n",
      "Concept with SCTID 298631005 has no FSN. Using synonym 'Increased passive range lumbar spine right lateral flexion' instead.\n",
      "Concept with SCTID 298632003 has no FSN. Using synonym 'Decreased passive range of lumbar spine right side flexion' instead.\n",
      "Concept with SCTID 302305009 has no FSN. Using synonym 'S35 MHA - Detained in hospital under Section 35 of the Mental Health Act 1983 (England and Wales)' instead.\n",
      "Concept with SCTID 302321004 has no FSN. Using synonym 'Detained in hospital under Section 36 of the MHA 1983' instead.\n",
      "Concept with SCTID 302327000 has no FSN. Using synonym 'Detained in hospital under Section 37 of the MHA 1983' instead.\n",
      "Concept with SCTID 302328005 has no FSN. Using synonym 'S38 MHA - Detained in hospital under Section 38 of the Mental Health Act 1983 (England and Wales)' instead.\n",
      "Concept with SCTID 302346004 has no FSN. Using synonym 'Detained in hospital under Section 44 of the MHA 1983' instead.\n",
      "Concept with SCTID 302347008 has no FSN. Using synonym 'S46 MHA - Detained in hospital under Section 46 of the Mental Health Act 1983 (England and Wales)' instead.\n",
      "Concept with SCTID 302348003 has no FSN. Using synonym 'Detained in hospital under Section 48 of the MHA 1983' instead.\n",
      "Concept with SCTID 302380001 has no FSN. Using synonym 'Sentenced prisoner detained in hospital under Section 47 of the Mental Health Act 1983 (England and Wales)' instead.\n",
      "Concept with SCTID 302444000 has no FSN. Using synonym 'S41 MHA - Subject to restriction order under Section 41 of the Mental Health Act 1983 (England and Wales)' instead.\n",
      "Concept with SCTID 302445004 has no FSN. Using synonym 'Subject to restriction order under Section 46 of MHA 1983' instead.\n",
      "Concept with SCTID 302446003 has no FSN. Using synonym 'S49 MHA - Subject to restriction order under Section 49 of the Mental Health Act 1983 (England and Wales)' instead.\n",
      "Concept with SCTID 302988002 has no FSN. Using synonym 'Released from restriction order under Section 42 of MHA 1983' instead.\n",
      "Concept with SCTID 302991002 has no FSN. Using synonym 'S7 MHA - Received into guardianship under Section 7 of the Mental Health Act1983 (England and Wales)' instead.\n",
      "Concept with SCTID 302993004 has no FSN. Using synonym 'S37 MHA - Received into guardianship on court order under Section 37 of the Mental Health Act 1983 (England and Wales)' instead.\n",
      "Concept with SCTID 302998008 has no FSN. Using synonym 'S17 MHA - Leave of absence granted by Responsible Medical Officer under Section 17 of the Mental Health Act 1983 (England and Wales)' instead.\n",
      "Concept with SCTID 302999000 has no FSN. Using synonym 'Leave of absence granted by RMO under Section 41 MHA 1983' instead.\n",
      "Concept with SCTID 303006005 has no FSN. Using synonym 'Discharged from liability to detentn under Sect 23 MHA 1983' instead.\n",
      "Concept with SCTID 303007001 has no FSN. Using synonym 'S41 MHA - Discharged from liability to detention under Section 41 of the Mental Health Act 1983 (England and Wales)' instead.\n",
      "Concept with SCTID 303008006 has no FSN. Using synonym 'Discharged from liability to detentn under Sect 49 MHA 1983' instead.\n",
      "Concept with SCTID 303014004 has no FSN. Using synonym 'Returned to hospital under Section 18 of the MHA 1983' instead.\n",
      "Concept with SCTID 303015003 has no FSN. Using synonym 'S18 MHA - Recalled from leave of absence under Section 18 of the Mental Health Act 1983 (England and Wales)' instead.\n",
      "Concept with SCTID 303016002 has no FSN. Using synonym 'Recalled from leave of absence under Sect 41(3)(c) MHA 1983' instead.\n",
      "Concept with SCTID 303018001 has no FSN. Using synonym 'Recalled from conditnl dischrge under Sect 41(3)(d) MHA 1983' instead.\n",
      "Concept with SCTID 303021004 has no FSN. Using synonym 'Patient returnd from absent without leave under S88 MHA 1983' instead.\n",
      "Concept with SCTID 303022006 has no FSN. Using synonym 'S87 MHA - Patient returned from being absent without leave under Section 87 of the Mental Health Act 1983 (England and Wales)' instead.\n",
      "Concept with SCTID 303023001 has no FSN. Using synonym 'Patient returnd from absent without leave under S89 MHA 1983' instead.\n",
      "Concept with SCTID 303024007 has no FSN. Using synonym 'S138 MHA - Patient retaken from escaping custody under Section 138 of the Mental Health Act 1983 (England and Wales)' instead.\n",
      "Concept with SCTID 303210002 has no FSN. Using synonym 'MHA - Subject to court of protection under the Mental Health Act 1983 (England and Wales)' instead.\n",
      "SNOMED graph has 361179 vertices and 1179749 edges\n"
     ]
    }
   ],
   "source": [
    "# Load from RF2 path\n",
    "# N.B. the folder must be named with the proper release name: e.g. \"SnomedCT_InternationalRF2_PRODUCTION_20230531T120000Z\"\n",
    "SG = SnomedGraph.from_rf2(\"SnomedCT_InternationalRF2_PRODUCTION_20230531T120000Z\")"
   ]
  },
  {
   "cell_type": "code",
   "execution_count": 3,
   "id": "dbbdbe2b-891f-49bc-94be-9be00232fa4a",
   "metadata": {},
   "outputs": [
    {
     "name": "stdout",
     "output_type": "stream",
     "text": [
      "SNOMED graph has 361179 vertices and 1179749 edges\n"
     ]
    }
   ],
   "source": [
    "# Load from a previously serialised SnomedGraph\n",
    "SG = SnomedGraph.from_serialized(\"full_concept_graph.gml\")"
   ]
  },
  {
   "cell_type": "code",
   "execution_count": 4,
   "id": "414da528-e4b3-4858-ae7c-c4011c366577",
   "metadata": {},
   "outputs": [
    {
     "name": "stdout",
     "output_type": "stream",
     "text": [
      "35241000 | Cholecystostomy (procedure)\n"
     ]
    }
   ],
   "source": [
    "# A SnomedConceptDetails object contains just the SCTID, FSN and Synonyms.\n",
    "# Most functions return these.\n",
    "concept_details = SG.get_concept_details(35241000)\n",
    "print(concept_details)"
   ]
  },
  {
   "cell_type": "code",
   "execution_count": 6,
   "id": "f8282ab8-b68e-4e06-9ef9-ecdcab52a812",
   "metadata": {},
   "outputs": [
    {
     "data": {
      "text/plain": [
       "['Cholecystostomy']"
      ]
     },
     "execution_count": 6,
     "metadata": {},
     "output_type": "execute_result"
    }
   ],
   "source": [
    "# The following attributes are available\n",
    "concept_details.sctid\n",
    "concept_details.fsn\n",
    "concept_details.synonyms"
   ]
  },
  {
   "cell_type": "code",
   "execution_count": 7,
   "id": "b03489e7-4935-4813-81c4-4f4c12f4959f",
   "metadata": {},
   "outputs": [
    {
     "name": "stdout",
     "output_type": "stream",
     "text": [
      "35241000 | Cholecystostomy (procedure)\n",
      "\n",
      "Synonyms:\n",
      "['Cholecystostomy']\n",
      "\n",
      "Parents:\n",
      "45584003 | Repair of gallbladder (procedure)\n",
      "363123009 | Exteriorization by anatomic site (procedure)\n",
      "\n",
      "Children:\n",
      "174525001 | Percutaneous cholecystostomy (procedure)\n",
      "66444008 | Irrigation cholecystostomy (procedure)\n",
      "439781002 | Insertion of peripancreatic drain with cholecystostomy (procedure)\n",
      "450500003 | Laparoscopic cholecystostomy (procedure)\n",
      "711210005 | Cholecystostomy using computed tomography guidance (procedure)\n",
      "711424006 | Cholecystostomy using ultrasonographic guidance (procedure)\n",
      "\n",
      "Inferred Relationships:\n",
      "Group 1\n",
      "\t[35241000 | Cholecystostomy (procedure)] ---[Method (attribute)]---> [129354008 | Exteriorization - action (qualifier value)]\n",
      "\t[35241000 | Cholecystostomy (procedure)] ---[Procedure site - Direct (attribute)]---> [28231008 | Gallbladder structure (body structure)]\n"
     ]
    }
   ],
   "source": [
    "# A full SnomedConcept object contains lots of detailed information\n",
    "full_concept = SG.get_full_concept(35241000)\n",
    "print(full_concept)"
   ]
  },
  {
   "cell_type": "code",
   "execution_count": 11,
   "id": "69df1bb7-313f-4643-b78a-747a9c456262",
   "metadata": {},
   "outputs": [
    {
     "data": {
      "text/plain": [
       "'Exteriorization - action (qualifier value)'"
      ]
     },
     "execution_count": 11,
     "metadata": {},
     "output_type": "execute_result"
    }
   ],
   "source": [
    "# You can access all of the elements you see above.  \n",
    "full_concept.concept_details\n",
    "full_concept.parents\n",
    "full_concept.children\n",
    "full_concept.inferred_relationship_groups[0].relationships[0].tgt.fsn"
   ]
  },
  {
   "cell_type": "code",
   "execution_count": 6,
   "id": "19bb8738-d95a-432f-bd97-9c80449e9ff7",
   "metadata": {},
   "outputs": [
    {
     "name": "stdout",
     "output_type": "stream",
     "text": [
      "363123009 | Exteriorization by anatomic site (procedure)\n",
      "45584003 | Repair of gallbladder (procedure)\n",
      "19744006 | Operation on gallbladder (procedure)\n",
      "119928009 | Biliary tract repair (procedure)\n",
      "362958002 | Procedure by site (procedure)\n",
      "59719002 | Exteriorization (procedure)\n"
     ]
    }
   ],
   "source": [
    "# Get parents and grandparents (using steps_removed=2) \n",
    "# Returns iterator of ConceptDetails.\n",
    "for concept_details in SG.get_ancestors(35241000, steps_removed=2):\n",
    "    print(concept_details)"
   ]
  },
  {
   "cell_type": "code",
   "execution_count": 7,
   "id": "cc24a56d-854f-45b9-ac5c-a1ef74e63827",
   "metadata": {},
   "outputs": [
    {
     "name": "stdout",
     "output_type": "stream",
     "text": [
      "450500003 | Laparoscopic cholecystostomy (procedure)\n",
      "711210005 | Cholecystostomy using computed tomography guidance (procedure)\n",
      "711424006 | Cholecystostomy using ultrasonographic guidance (procedure)\n",
      "66444008 | Irrigation cholecystostomy (procedure)\n",
      "174525001 | Percutaneous cholecystostomy (procedure)\n",
      "439781002 | Insertion of peripancreatic drain with cholecystostomy (procedure)\n",
      "442833003 | Percutaneous cholecystostomy and drainage using ultrasound guidance (procedure)\n"
     ]
    }
   ],
   "source": [
    "# Get all descendants.  (no steps_removed given so all descendants are returned).\n",
    "# Returns an iterator of ConceptDetails.\n",
    "for concept in SG.get_descendants(35241000):\n",
    "    print(concept)"
   ]
  },
  {
   "cell_type": "code",
   "execution_count": 8,
   "id": "f611e90c-6759-4c41-a233-24e6c93ad1eb",
   "metadata": {
    "scrolled": true
   },
   "outputs": [
    {
     "name": "stdout",
     "output_type": "stream",
     "text": [
      "33899008 | Drainage of spleen by marsupialization (procedure)\n",
      "697984004 | Exteriorization of trachea (procedure)\n",
      "258176004 | Computed tomography guidance (procedure)\n",
      "711424006 | Cholecystostomy using ultrasonographic guidance (procedure)\n",
      "174432007 | Marsupialization of liver lesion (procedure)\n",
      "302389000 | Marsupialization of skin lesion (procedure)\n",
      "440064006 | Marsupialization of diverticulum of urethra (procedure)\n",
      "19744006 | Operation on gallbladder (procedure)\n",
      "13685004 | Pharyngostomy (procedure)\n",
      "51146001 | Formation of cutaneous ureterostomy (procedure)\n",
      "238282004 | Peritoneal pseudocyst marsupialization (procedure)\n",
      "711210005 | Cholecystostomy using computed tomography guidance (procedure)\n",
      "119924006 | Gallbladder closure (procedure)\n",
      "447124007 | Marsupialization of lesion of kidney (procedure)\n",
      "51316009 | Laparoscopic procedure (procedure)\n",
      "235177002 | Creation of cervical tube esophagostomy (procedure)\n",
      "118825001 | Procedure on pancreas (procedure)\n",
      "232542003 | Marsupialization of pharyngeal cyst (procedure)\n",
      "363123009 | Exteriorization by anatomic site (procedure)\n",
      "40328001 | Exteriorization of maxillary sinus (procedure)\n",
      "80104006 | Exteriorization of carotid artery (procedure)\n",
      "174525001 | Percutaneous cholecystostomy (procedure)\n",
      "118738001 | Procedure on soft tissue (procedure)\n",
      "264274002 | Endoscopic operation (procedure)\n",
      "71794007 | Marsupialization of splenic cyst (procedure)\n",
      "59719002 | Exteriorization (procedure)\n",
      "397159007 | Exteriorization of intestine (procedure)\n",
      "307175009 | Marsupialization of submandibular duct (procedure)\n",
      "57212002 | Calico-ileoneocystostomy (procedure)\n",
      "42332004 | Fistulization of appendix (procedure)\n",
      "442833003 | Percutaneous cholecystostomy and drainage using ultrasound guidance (procedure)\n",
      "426577005 | Marsupialization of lacrimal canaliculus (procedure)\n",
      "442737009 | Appendicovesicostomy (procedure)\n",
      "444593009 | Marsupialization of cyst of pancreas (procedure)\n",
      "173339007 | Marsupialization of dental lesion of jaw (procedure)\n",
      "45584003 | Repair of gallbladder (procedure)\n",
      "307664006 | Marsupialization of pilonidal sinus (procedure)\n",
      "440549000 | Insertion of peripancreatic drain with jejunostomy (procedure)\n",
      "439781002 | Insertion of peripancreatic drain with cholecystostomy (procedure)\n",
      "238277006 | Peritoneal cyst marsupialization (procedure)\n",
      "176666008 | Marsupialization of lesion of vagina (procedure)\n",
      "70031002 | Oophorostomy (procedure)\n",
      "447055003 | Marsupialization of cyst of uterine cervix (procedure)\n",
      "418863006 | Computed tomography of biliary tract (procedure)\n",
      "239375009 | Marsupialization of lesion of bone of face (procedure)\n",
      "128399009 | Anastomosis of gall bladder (procedure)\n",
      "450500003 | Laparoscopic cholecystostomy (procedure)\n",
      "363321000 | Surgical repair procedure by device (procedure)\n",
      "307257002 | Marsupialization of sublingual cyst (procedure)\n",
      "61593002 | Ultrasonic guidance procedure (procedure)\n",
      "173977007 | Creation of ileostomy (procedure)\n",
      "302798000 | Gallbladder X-ray (procedure)\n",
      "57166001 | Marsupialization of prostate (procedure)\n",
      "362958002 | Procedure by site (procedure)\n",
      "176590003 | Marsupialization of Bartholin's gland (procedure)\n",
      "63417009 | Marsupialization of cyst of spinal meninges (procedure)\n",
      "265614009 | Marsupialization of lesion of vulva (procedure)\n",
      "441763001 | Endoscopic exteriorization of third ventricle (procedure)\n",
      "234915008 | Marsupialization of lesion of brain (procedure)\n",
      "738552004 | Partial resection of colon with stoma (procedure)\n",
      "172888008 | Radical frontal sinus antrostomy (procedure)\n",
      "119928009 | Biliary tract repair (procedure)\n",
      "169250003 | Ultrasound scan of gallbladder (procedure)\n",
      "27191003 | Repair of laceration of gallbladder (procedure)\n",
      "119927004 | Gallbladder reconstruction (procedure)\n",
      "64119005 | Marsupialization of cyst of kidney (procedure)\n",
      "177015007 | Marsupialization of lesion of ovary (procedure)\n",
      "231628000 | Marsupialization of dacryocele (procedure)\n",
      "709100000 | Marsupialization of cyst of salivary gland (procedure)\n",
      "53580003 | Marsupialization of cyst of larynx (procedure)\n",
      "232652005 | Cavernostomizing of bulla of lung (procedure)\n",
      "698956007 | Insertion of drain (procedure)\n",
      "66444008 | Irrigation cholecystostomy (procedure)\n",
      "51233000 | Sigmoidostomy (procedure)\n",
      "172737003 | Cochleostomy (procedure)\n",
      "238230001 | Marsupialization of cyst of abdominal wall (procedure)\n",
      "30582003 | Duodenostomy (procedure)\n",
      "281590006 | Exteriorization of brain ventricular shunt (procedure)\n",
      "708587003 | Marsupialization of abscess of pharynx (procedure)\n",
      "55531006 | Urethrostomy (procedure)\n"
     ]
    }
   ],
   "source": [
    "# Get neighbourhood: here we pick all concepts linked by an \"is a\" path of length 2 or less.  \n",
    "# i.e. parents, grandparents, siblings, children, grandchildren and \"spouses\".\n",
    "for concept_details in SG.get_neighbourhood(35241000, 2):\n",
    "    print(concept_details)"
   ]
  },
  {
   "cell_type": "code",
   "execution_count": 9,
   "id": "33e7f35d-a704-4b1e-b3e8-5357a3281a5a",
   "metadata": {
    "scrolled": true
   },
   "outputs": [
    {
     "data": {
      "text/plain": [
       "{'Access (attribute)',\n",
       " 'After (attribute)',\n",
       " 'Associated finding (attribute)',\n",
       " 'Associated morphology (attribute)',\n",
       " 'Associated procedure (attribute)',\n",
       " 'Associated with (attribute)',\n",
       " 'Before (attribute)',\n",
       " 'Causative agent (attribute)',\n",
       " 'Characterizes (attribute)',\n",
       " 'Clinical course (attribute)',\n",
       " 'Component (attribute)',\n",
       " 'Direct device (attribute)',\n",
       " 'Direct morphology (attribute)',\n",
       " 'Direct site (attribute)',\n",
       " 'Direct substance (attribute)',\n",
       " 'Due to (attribute)',\n",
       " 'During (attribute)',\n",
       " 'Finding context (attribute)',\n",
       " 'Finding informer (attribute)',\n",
       " 'Finding method (attribute)',\n",
       " 'Finding site (attribute)',\n",
       " 'Has absorbability (attribute)',\n",
       " 'Has active ingredient (attribute)',\n",
       " 'Has basic dose form (attribute)',\n",
       " 'Has basis of strength substance (attribute)',\n",
       " 'Has coating material (attribute)',\n",
       " 'Has compositional material (attribute)',\n",
       " 'Has concentration strength denominator unit (attribute)',\n",
       " 'Has concentration strength numerator unit (attribute)',\n",
       " 'Has device intended site (attribute)',\n",
       " 'Has disposition (attribute)',\n",
       " 'Has dose form administration method (attribute)',\n",
       " 'Has dose form intended site (attribute)',\n",
       " 'Has dose form release characteristic (attribute)',\n",
       " 'Has dose form transformation (attribute)',\n",
       " 'Has filling (attribute)',\n",
       " 'Has focus (attribute)',\n",
       " 'Has ingredient qualitative strength (attribute)',\n",
       " 'Has intent (attribute)',\n",
       " 'Has interpretation (attribute)',\n",
       " 'Has manufactured dose form (attribute)',\n",
       " 'Has precise active ingredient (attribute)',\n",
       " 'Has presentation strength denominator unit (attribute)',\n",
       " 'Has presentation strength numerator unit (attribute)',\n",
       " 'Has realization (attribute)',\n",
       " 'Has specimen (attribute)',\n",
       " 'Has state of matter (attribute)',\n",
       " 'Has surface texture (attribute)',\n",
       " 'Has target population (attribute)',\n",
       " 'Has unit of presentation (attribute)',\n",
       " 'Indirect device (attribute)',\n",
       " 'Indirect morphology (attribute)',\n",
       " 'Inherent location (attribute)',\n",
       " 'Inheres in (attribute)',\n",
       " 'Interprets (attribute)',\n",
       " 'Is a (attribute)',\n",
       " 'Is modification of (attribute)',\n",
       " 'Is sterile (attribute)',\n",
       " 'Laterality (attribute)',\n",
       " 'Measurement method (attribute)',\n",
       " 'Method (attribute)',\n",
       " 'Occurrence (attribute)',\n",
       " 'Pathological process (attribute)',\n",
       " 'Plays role (attribute)',\n",
       " 'Precondition (attribute)',\n",
       " 'Priority (attribute)',\n",
       " 'Procedure context (attribute)',\n",
       " 'Procedure device (attribute)',\n",
       " 'Procedure morphology (attribute)',\n",
       " 'Procedure site (attribute)',\n",
       " 'Procedure site - Direct (attribute)',\n",
       " 'Procedure site - Indirect (attribute)',\n",
       " 'Process acts on (attribute)',\n",
       " 'Process duration (attribute)',\n",
       " 'Process extends to (attribute)',\n",
       " 'Process output (attribute)',\n",
       " 'Property (attribute)',\n",
       " 'Recipient category (attribute)',\n",
       " 'Relative to (attribute)',\n",
       " 'Relative to part of (attribute)',\n",
       " 'Revision status (attribute)',\n",
       " 'Route of administration (attribute)',\n",
       " 'Scale type (attribute)',\n",
       " 'Severity (attribute)',\n",
       " 'Specimen procedure (attribute)',\n",
       " 'Specimen source identity (attribute)',\n",
       " 'Specimen source morphology (attribute)',\n",
       " 'Specimen source topography (attribute)',\n",
       " 'Specimen substance (attribute)',\n",
       " 'Subject relationship context (attribute)',\n",
       " 'Surgical approach (attribute)',\n",
       " 'Technique (attribute)',\n",
       " 'Temporal context (attribute)',\n",
       " 'Temporally related to (attribute)',\n",
       " 'Time aspect (attribute)',\n",
       " 'Units (attribute)',\n",
       " 'Using access device (attribute)',\n",
       " 'Using device (attribute)',\n",
       " 'Using energy (attribute)',\n",
       " 'Using substance (attribute)'}"
      ]
     },
     "execution_count": 9,
     "metadata": {},
     "output_type": "execute_result"
    }
   ],
   "source": [
    "# All the relationship types that exist in the SnomedGraph.\n",
    "SG.relationship_types"
   ]
  },
  {
   "cell_type": "code",
   "execution_count": 10,
   "id": "33678ec7-934d-4054-a902-593f9c72b441",
   "metadata": {},
   "outputs": [
    {
     "name": "stdout",
     "output_type": "stream",
     "text": [
      "[35241000 | Cholecystostomy (procedure)] ---[Procedure site - Direct (attribute)]---> [28231008 | Gallbladder structure (body structure)] ---[Is a (attribute)]---> [34707002 | Biliary tract structure (body structure)]\n"
     ]
    }
   ],
   "source": [
    "# Find the path between any two concepts.\n",
    "# N.B. this will only return directional paths, e.g. \"spouses\", cousins will not be returned.\n",
    "# The \"print_\" kwarg will cause the function to print the full path, as below.\n",
    "# It will return the list of SnomedRelationships in the chain.\n",
    "path = SG.find_path(35241000, 34707002, print_=True)"
   ]
  },
  {
   "cell_type": "code",
   "execution_count": 14,
   "id": "6181c8ca-7eb1-4633-a551-907a37a7ac3a",
   "metadata": {},
   "outputs": [],
   "source": [
    "# Iterate over concepts\n",
    "# yields ConceptDetails\n",
    "for concept_details in SG:\n",
    "    pass"
   ]
  },
  {
   "cell_type": "code",
   "execution_count": 12,
   "id": "4c0d0d0f-8c0d-4c6e-b4fe-30fbb170714c",
   "metadata": {},
   "outputs": [
    {
     "name": "stdout",
     "output_type": "stream",
     "text": [
      "219169 concepts have been selected.\n"
     ]
    }
   ],
   "source": [
    "# Retrieve all procedures, body structures and clinical findings.\n",
    "concepts_in_scope = SG.get_descendants(71388002) | SG.get_descendants(123037004) | SG.get_descendants(404684003)\n",
    "print(f\"{len(concepts_in_scope)} concepts have been selected.\")"
   ]
  },
  {
   "cell_type": "code",
   "execution_count": 13,
   "id": "5d1a6391-f9a3-4462-8024-c3d36f6e15d8",
   "metadata": {},
   "outputs": [],
   "source": [
    "# Fetch nodes and edges as Pandas DataFrames\n",
    "nodes_df, edges_df = SG.to_pandas()"
   ]
  },
  {
   "cell_type": "code",
   "execution_count": 14,
   "id": "7cdbde1b-52ad-465a-ba92-e39641d0548d",
   "metadata": {},
   "outputs": [
    {
     "data": {
      "text/html": [
       "<div>\n",
       "<style scoped>\n",
       "    .dataframe tbody tr th:only-of-type {\n",
       "        vertical-align: middle;\n",
       "    }\n",
       "\n",
       "    .dataframe tbody tr th {\n",
       "        vertical-align: top;\n",
       "    }\n",
       "\n",
       "    .dataframe thead th {\n",
       "        text-align: right;\n",
       "    }\n",
       "</style>\n",
       "<table border=\"1\" class=\"dataframe\">\n",
       "  <thead>\n",
       "    <tr style=\"text-align: right;\">\n",
       "      <th></th>\n",
       "      <th>fsn</th>\n",
       "      <th>synonyms</th>\n",
       "    </tr>\n",
       "    <tr>\n",
       "      <th>sctid</th>\n",
       "      <th></th>\n",
       "      <th></th>\n",
       "    </tr>\n",
       "  </thead>\n",
       "  <tbody>\n",
       "    <tr>\n",
       "      <th>420178002</th>\n",
       "      <td>Product containing cinchocaine and hydrocortis...</td>\n",
       "      <td>[Dibucaine- and hydrocortisone-containing prod...</td>\n",
       "    </tr>\n",
       "    <tr>\n",
       "      <th>129110009</th>\n",
       "      <td>Exploration of retroperitoneal area with biops...</td>\n",
       "      <td>[Exploration of retroperitoneal area with biopsy]</td>\n",
       "    </tr>\n",
       "    <tr>\n",
       "      <th>340922009</th>\n",
       "      <td>Partial hip replacement by cup (procedure)</td>\n",
       "      <td>[Partial hip replacement by cup, Cup arthropla...</td>\n",
       "    </tr>\n",
       "  </tbody>\n",
       "</table>\n",
       "</div>"
      ],
      "text/plain": [
       "                                                         fsn  \\\n",
       "sctid                                                          \n",
       "420178002  Product containing cinchocaine and hydrocortis...   \n",
       "129110009  Exploration of retroperitoneal area with biops...   \n",
       "340922009         Partial hip replacement by cup (procedure)   \n",
       "\n",
       "                                                    synonyms  \n",
       "sctid                                                         \n",
       "420178002  [Dibucaine- and hydrocortisone-containing prod...  \n",
       "129110009  [Exploration of retroperitoneal area with biopsy]  \n",
       "340922009  [Partial hip replacement by cup, Cup arthropla...  "
      ]
     },
     "execution_count": 14,
     "metadata": {},
     "output_type": "execute_result"
    }
   ],
   "source": [
    "nodes_df.sample(3)"
   ]
  },
  {
   "cell_type": "code",
   "execution_count": 15,
   "id": "7c6e6c83-b8d2-4bf1-8d1d-af12d4556013",
   "metadata": {},
   "outputs": [
    {
     "data": {
      "text/html": [
       "<div>\n",
       "<style scoped>\n",
       "    .dataframe tbody tr th:only-of-type {\n",
       "        vertical-align: middle;\n",
       "    }\n",
       "\n",
       "    .dataframe tbody tr th {\n",
       "        vertical-align: top;\n",
       "    }\n",
       "\n",
       "    .dataframe thead th {\n",
       "        text-align: right;\n",
       "    }\n",
       "</style>\n",
       "<table border=\"1\" class=\"dataframe\">\n",
       "  <thead>\n",
       "    <tr style=\"text-align: right;\">\n",
       "      <th></th>\n",
       "      <th>source</th>\n",
       "      <th>target</th>\n",
       "      <th>type</th>\n",
       "      <th>type_id</th>\n",
       "      <th>group</th>\n",
       "    </tr>\n",
       "  </thead>\n",
       "  <tbody>\n",
       "    <tr>\n",
       "      <th>659395</th>\n",
       "      <td>426692001</td>\n",
       "      <td>1255413004</td>\n",
       "      <td>Is a (attribute)</td>\n",
       "      <td>116680003</td>\n",
       "      <td>0</td>\n",
       "    </tr>\n",
       "    <tr>\n",
       "      <th>1060046</th>\n",
       "      <td>874868004</td>\n",
       "      <td>89811004</td>\n",
       "      <td>Process acts on (attribute)</td>\n",
       "      <td>1003735000</td>\n",
       "      <td>3</td>\n",
       "    </tr>\n",
       "    <tr>\n",
       "      <th>844381</th>\n",
       "      <td>714036005</td>\n",
       "      <td>54711002</td>\n",
       "      <td>Is a (attribute)</td>\n",
       "      <td>116680003</td>\n",
       "      <td>0</td>\n",
       "    </tr>\n",
       "  </tbody>\n",
       "</table>\n",
       "</div>"
      ],
      "text/plain": [
       "            source      target                         type     type_id  group\n",
       "659395   426692001  1255413004             Is a (attribute)   116680003      0\n",
       "1060046  874868004    89811004  Process acts on (attribute)  1003735000      3\n",
       "844381   714036005    54711002             Is a (attribute)   116680003      0"
      ]
     },
     "execution_count": 15,
     "metadata": {},
     "output_type": "execute_result"
    }
   ],
   "source": [
    "edges_df.sample(3)"
   ]
  },
  {
   "cell_type": "code",
   "execution_count": 16,
   "id": "0e2615b7-3914-4b76-90c5-74f759d9e270",
   "metadata": {},
   "outputs": [],
   "source": [
    "# Serialize\n",
    "SG.save(\"full_concept_graph.gml\")"
   ]
  }
 ],
 "metadata": {
  "kernelspec": {
   "display_name": "Python 3 (ipykernel)",
   "language": "python",
   "name": "python3"
  },
  "language_info": {
   "codemirror_mode": {
    "name": "ipython",
    "version": 3
   },
   "file_extension": ".py",
   "mimetype": "text/x-python",
   "name": "python",
   "nbconvert_exporter": "python",
   "pygments_lexer": "ipython3",
   "version": "3.10.6"
  }
 },
 "nbformat": 4,
 "nbformat_minor": 5
}
