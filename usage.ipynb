{
 "cells": [
  {
   "cell_type": "markdown",
   "id": "3aebf276-0135-44b2-88cd-e919f32e937d",
   "metadata": {},
   "source": [
    "# SnomedGraph\n",
    "\n",
    "Turns a SNOMED CT concept set into a graph."
   ]
  },
  {
   "cell_type": "code",
   "execution_count": 29,
   "id": "26c0a7ab-31d4-4494-bbcd-6ae0f5f69a4a",
   "metadata": {},
   "outputs": [],
   "source": [
    "from snomed_graph import SnomedGraph"
   ]
  },
  {
   "cell_type": "code",
   "execution_count": 2,
   "id": "3d1155a6-fe70-4ee1-92c4-623cf13cfbe5",
   "metadata": {},
   "outputs": [
    {
     "name": "stdout",
     "output_type": "stream",
     "text": [
      "1308376 terms and 1230261 relationships were found in the release.\n",
      "Creating Relationships...\n"
     ]
    },
    {
     "data": {
      "application/vnd.jupyter.widget-view+json": {
       "model_id": "b8acdad033cd43f4a06c2d06a976ed7a",
       "version_major": 2,
       "version_minor": 0
      },
      "text/plain": [
       "  0%|          | 0/1230261 [00:00<?, ?it/s]"
      ]
     },
     "metadata": {},
     "output_type": "display_data"
    },
    {
     "name": "stdout",
     "output_type": "stream",
     "text": [
      "Adding Concepts...\n"
     ]
    },
    {
     "data": {
      "application/vnd.jupyter.widget-view+json": {
       "model_id": "65591da1b0c64969acff17ca5ca5c02c",
       "version_major": 2,
       "version_minor": 0
      },
      "text/plain": [
       "  0%|          | 0/503728 [00:00<?, ?it/s]"
      ]
     },
     "metadata": {},
     "output_type": "display_data"
    },
    {
     "name": "stdout",
     "output_type": "stream",
     "text": [
      "Concept with SCTID 286794000 has no FSN. Using synonym 'Detained in hospital under the Mental Health Act 1983 (E&W)' instead.\n",
      "Concept with SCTID 286799005 has no FSN. Using synonym 'Detained in hospital under Section 2 of the MHA 1983' instead.\n",
      "Concept with SCTID 286803006 has no FSN. Using synonym 'S3 MHA - Detained in hospital under Section 3 of the Mental Health Act 1983 (England and Wales)' instead.\n",
      "Concept with SCTID 286807007 has no FSN. Using synonym 'Detained under emergency powers in hospital under Section 4 of the Mental Health Act 1983' instead.\n",
      "Concept with SCTID 286808002 has no FSN. Using synonym 'Detained in hospital under Section 5 of the MHA 1983' instead.\n",
      "Concept with SCTID 286809005 has no FSN. Using synonym 'Detained in hospital under nurses' holding power under Section 5(4) of the Mental Health Act 1983' instead.\n",
      "Concept with SCTID 286810000 has no FSN. Using synonym 'Detained in hosp under Sectn 5(2) Ment Health Act 83 E&W' instead.\n",
      "Concept with SCTID 292871007 has no FSN. Using synonym 'Bismuth subnitrate & iodoform paste impreg gauze advers reac' instead.\n",
      "Concept with SCTID 298430001 has no FSN. Using synonym 'Increased active range cervical spine right side flexion' instead.\n",
      "Concept with SCTID 298431002 has no FSN. Using synonym 'Decreased active range of cervical spine right side flexion' instead.\n",
      "Concept with SCTID 298435006 has no FSN. Using synonym 'Increased passive range cervical spine right lateral flexion' instead.\n",
      "Concept with SCTID 298436007 has no FSN. Using synonym 'Decreased passive range of cervical spine right side flexion' instead.\n",
      "Concept with SCTID 298441004 has no FSN. Using synonym 'Increased active range cervical spine left lateral flexion' instead.\n",
      "Concept with SCTID 298442006 has no FSN. Using synonym 'Decreased active range of cervical spine left side flexion' instead.\n",
      "Concept with SCTID 298446009 has no FSN. Using synonym 'Increased passive range cervical spine left lateral flexion' instead.\n",
      "Concept with SCTID 298447000 has no FSN. Using synonym 'Decreased passive range of cervical spine left side flexion' instead.\n",
      "Concept with SCTID 298532007 has no FSN. Using synonym 'Increased active range of dorsal spine right lateral flexion' instead.\n",
      "Concept with SCTID 298533002 has no FSN. Using synonym 'Decreased active range thoracic spine right lateral flexion' instead.\n",
      "Concept with SCTID 298537001 has no FSN. Using synonym 'Increased passive range of thoracic spine right side flexion' instead.\n",
      "Concept with SCTID 298538006 has no FSN. Using synonym 'Decreased passive range thoracic spine right lateral flexion' instead.\n",
      "Concept with SCTID 298543004 has no FSN. Using synonym 'Increased active range of thoracic spine left side flexion' instead.\n",
      "Concept with SCTID 298544005 has no FSN. Using synonym 'Decreased active range of thoracic spine left side flexion' instead.\n",
      "Concept with SCTID 298548008 has no FSN. Using synonym 'Increased passive range of dorsal spine left side flexion' instead.\n",
      "Concept with SCTID 298549000 has no FSN. Using synonym 'Decreased passive range thoracic spine left lateral flexion' instead.\n",
      "Concept with SCTID 298577009 has no FSN. Using synonym 'Observation of sensation of musculoskeletal structure of dorsal spine' instead.\n",
      "Concept with SCTID 298631005 has no FSN. Using synonym 'Increased passive range lumbar spine right lateral flexion' instead.\n",
      "Concept with SCTID 298632003 has no FSN. Using synonym 'Decreased passive range of lumbar spine right side flexion' instead.\n",
      "Concept with SCTID 302305009 has no FSN. Using synonym 'S35 MHA - Detained in hospital under Section 35 of the Mental Health Act 1983 (England and Wales)' instead.\n",
      "Concept with SCTID 302321004 has no FSN. Using synonym 'Detained in hospital under Section 36 of the MHA 1983' instead.\n",
      "Concept with SCTID 302327000 has no FSN. Using synonym 'Detained in hospital under Section 37 of the MHA 1983' instead.\n",
      "Concept with SCTID 302328005 has no FSN. Using synonym 'S38 MHA - Detained in hospital under Section 38 of the Mental Health Act 1983 (England and Wales)' instead.\n",
      "Concept with SCTID 302346004 has no FSN. Using synonym 'Detained in hospital under Section 44 of the MHA 1983' instead.\n",
      "Concept with SCTID 302347008 has no FSN. Using synonym 'S46 MHA - Detained in hospital under Section 46 of the Mental Health Act 1983 (England and Wales)' instead.\n",
      "Concept with SCTID 302348003 has no FSN. Using synonym 'Detained in hospital under Section 48 of the MHA 1983' instead.\n",
      "Concept with SCTID 302380001 has no FSN. Using synonym 'Sentenced prisoner detained in hospital under Section 47 of the Mental Health Act 1983 (England and Wales)' instead.\n",
      "Concept with SCTID 302444000 has no FSN. Using synonym 'S41 MHA - Subject to restriction order under Section 41 of the Mental Health Act 1983 (England and Wales)' instead.\n",
      "Concept with SCTID 302445004 has no FSN. Using synonym 'Subject to restriction order under Section 46 of MHA 1983' instead.\n",
      "Concept with SCTID 302446003 has no FSN. Using synonym 'S49 MHA - Subject to restriction order under Section 49 of the Mental Health Act 1983 (England and Wales)' instead.\n",
      "Concept with SCTID 302988002 has no FSN. Using synonym 'Released from restriction order under Section 42 of MHA 1983' instead.\n",
      "Concept with SCTID 302991002 has no FSN. Using synonym 'S7 MHA - Received into guardianship under Section 7 of the Mental Health Act1983 (England and Wales)' instead.\n",
      "Concept with SCTID 302993004 has no FSN. Using synonym 'S37 MHA - Received into guardianship on court order under Section 37 of the Mental Health Act 1983 (England and Wales)' instead.\n",
      "Concept with SCTID 302998008 has no FSN. Using synonym 'S17 MHA - Leave of absence granted by Responsible Medical Officer under Section 17 of the Mental Health Act 1983 (England and Wales)' instead.\n",
      "Concept with SCTID 302999000 has no FSN. Using synonym 'Leave of absence granted by RMO under Section 41 MHA 1983' instead.\n",
      "Concept with SCTID 303006005 has no FSN. Using synonym 'Discharged from liability to detentn under Sect 23 MHA 1983' instead.\n",
      "Concept with SCTID 303007001 has no FSN. Using synonym 'S41 MHA - Discharged from liability to detention under Section 41 of the Mental Health Act 1983 (England and Wales)' instead.\n",
      "Concept with SCTID 303008006 has no FSN. Using synonym 'Discharged from liability to detentn under Sect 49 MHA 1983' instead.\n",
      "Concept with SCTID 303014004 has no FSN. Using synonym 'Returned to hospital under Section 18 of the MHA 1983' instead.\n",
      "Concept with SCTID 303015003 has no FSN. Using synonym 'S18 MHA - Recalled from leave of absence under Section 18 of the Mental Health Act 1983 (England and Wales)' instead.\n",
      "Concept with SCTID 303016002 has no FSN. Using synonym 'Recalled from leave of absence under Sect 41(3)(c) MHA 1983' instead.\n",
      "Concept with SCTID 303018001 has no FSN. Using synonym 'Recalled from conditnl dischrge under Sect 41(3)(d) MHA 1983' instead.\n",
      "Concept with SCTID 303021004 has no FSN. Using synonym 'Patient returnd from absent without leave under S88 MHA 1983' instead.\n",
      "Concept with SCTID 303022006 has no FSN. Using synonym 'S87 MHA - Patient returned from being absent without leave under Section 87 of the Mental Health Act 1983 (England and Wales)' instead.\n",
      "Concept with SCTID 303023001 has no FSN. Using synonym 'Patient returnd from absent without leave under S89 MHA 1983' instead.\n",
      "Concept with SCTID 303024007 has no FSN. Using synonym 'S138 MHA - Patient retaken from escaping custody under Section 138 of the Mental Health Act 1983 (England and Wales)' instead.\n",
      "Concept with SCTID 303210002 has no FSN. Using synonym 'MHA - Subject to court of protection under the Mental Health Act 1983 (England and Wales)' instead.\n",
      "SNOMED graph has 361179 vertices and 1179749 edges\n"
     ]
    }
   ],
   "source": [
    "# Load from RF2 path\n",
    "# N.B. the folder must be named with the proper release name: e.g. \"SnomedCT_InternationalRF2_PRODUCTION_20230531T120000Z\"\n",
    "SG = SnomedGraph.from_rf2(\"../snomed_el_drivendata/snomed-ct/SnomedCT_InternationalRF2_PRODUCTION_20230531T120000Z\")"
   ]
  },
  {
   "cell_type": "code",
   "execution_count": 31,
   "id": "dbbdbe2b-891f-49bc-94be-9be00232fa4a",
   "metadata": {},
   "outputs": [
    {
     "name": "stdout",
     "output_type": "stream",
     "text": [
      "SNOMED graph has 361179 vertices and 1179749 edges\n"
     ]
    }
   ],
   "source": [
    "# Load from a previously serialised SnomedGraph\n",
    "SG = SnomedGraph.from_serialized(\"full_concept_graph.gml\")"
   ]
  },
  {
   "cell_type": "code",
   "execution_count": 32,
   "id": "eb5623b0-2b15-4230-8bb3-7a9b19896c73",
   "metadata": {},
   "outputs": [
    {
     "name": "stdout",
     "output_type": "stream",
     "text": [
      "SCTID:\t\t35241000\n",
      "FSN:\t\tCholecystostomy (procedure)\n",
      "Synonyms:\t['Cholecystostomy']\n",
      "\n",
      "Parents:\n",
      "\t45584003 | Repair of gallbladder (procedure)\n",
      "\t363123009 | Exteriorization by anatomic site (procedure)\n",
      "\n",
      "Children:\n",
      "\t174525001 | Percutaneous cholecystostomy (procedure)\n",
      "\t66444008 | Irrigation cholecystostomy (procedure)\n",
      "\t439781002 | Insertion of peripancreatic drain with cholecystostomy (procedure)\n",
      "\t450500003 | Laparoscopic cholecystostomy (procedure)\n",
      "\t711210005 | Cholecystostomy using computed tomography guidance (procedure)\n",
      "\t711424006 | Cholecystostomy using ultrasonographic guidance (procedure)\n",
      "\n",
      "Inferred Relationships:\n",
      "\tGroup 0\n",
      "\tGroup 1\n",
      "\t\t---[Method (attribute)]--->\t129354008 | Exteriorization - action (qualifier value)\n",
      "\t\t---[Procedure site - Direct (attribute)]--->\t28231008 | Gallbladder structure (body structure)\n"
     ]
    }
   ],
   "source": [
    "# View a Concept\n",
    "SG.summarise_concept(35241000)"
   ]
  },
  {
   "cell_type": "code",
   "execution_count": 33,
   "id": "fc4ab6de-a5db-4587-bc43-0347d7947a59",
   "metadata": {},
   "outputs": [
    {
     "data": {
      "text/plain": [
       "{'sctid': 35241000,\n",
       " 'fsn': 'Cholecystostomy (procedure)',\n",
       " 'synonyms': ['Cholecystostomy']}"
      ]
     },
     "execution_count": 33,
     "metadata": {},
     "output_type": "execute_result"
    }
   ],
   "source": [
    "# Get a concept\n",
    "SG.get_concept(35241000)"
   ]
  },
  {
   "cell_type": "code",
   "execution_count": 34,
   "id": "286f9b59-a753-447c-9be2-32efd95dcc9b",
   "metadata": {},
   "outputs": [
    {
     "name": "stdout",
     "output_type": "stream",
     "text": [
      "Repair of gallbladder (procedure)\n",
      "Exteriorization by anatomic site (procedure)\n"
     ]
    }
   ],
   "source": [
    "# Parents\n",
    "for sctid in SG.get_parents(35241000):\n",
    "    print(SG.get_concept(sctid)[\"fsn\"])"
   ]
  },
  {
   "cell_type": "code",
   "execution_count": 35,
   "id": "37fafccb-e638-4a75-9ef5-223689f20f89",
   "metadata": {},
   "outputs": [
    {
     "name": "stdout",
     "output_type": "stream",
     "text": [
      "Percutaneous cholecystostomy (procedure)\n",
      "Irrigation cholecystostomy (procedure)\n",
      "Insertion of peripancreatic drain with cholecystostomy (procedure)\n",
      "Laparoscopic cholecystostomy (procedure)\n",
      "Cholecystostomy using computed tomography guidance (procedure)\n",
      "Cholecystostomy using ultrasonographic guidance (procedure)\n"
     ]
    }
   ],
   "source": [
    "# Children\n",
    "for sctid in SG.get_children(35241000):\n",
    "    print(SG.get_concept(sctid)[\"fsn\"])"
   ]
  },
  {
   "cell_type": "code",
   "execution_count": 36,
   "id": "1cde393f-2b93-428e-bbe3-0e0b178db108",
   "metadata": {},
   "outputs": [
    {
     "data": {
      "text/plain": [
       "{0: [],\n",
       " 1: [{'type': 'Method (attribute)',\n",
       "   'fsn': 'Exteriorization - action (qualifier value)',\n",
       "   'sctid': 129354008},\n",
       "  {'type': 'Procedure site - Direct (attribute)',\n",
       "   'fsn': 'Gallbladder structure (body structure)',\n",
       "   'sctid': 28231008}]}"
      ]
     },
     "execution_count": 36,
     "metadata": {},
     "output_type": "execute_result"
    }
   ],
   "source": [
    "# Get inferred relationships (except parents)\n",
    "SG.get_inferred_relationships(35241000)"
   ]
  },
  {
   "cell_type": "code",
   "execution_count": 37,
   "id": "cc24a56d-854f-45b9-ac5c-a1ef74e63827",
   "metadata": {},
   "outputs": [
    {
     "name": "stdout",
     "output_type": "stream",
     "text": [
      "Laparoscopic cholecystostomy (procedure)\n",
      "Cholecystostomy using computed tomography guidance (procedure)\n",
      "Cholecystostomy using ultrasonographic guidance (procedure)\n",
      "Irrigation cholecystostomy (procedure)\n",
      "Percutaneous cholecystostomy (procedure)\n",
      "Insertion of peripancreatic drain with cholecystostomy (procedure)\n",
      "Percutaneous cholecystostomy and drainage using ultrasound guidance (procedure)\n"
     ]
    }
   ],
   "source": [
    "# Get all descendants\n",
    "for sctid in SG.get_descendants(35241000):\n",
    "    print(SG.get_concept(sctid)[\"fsn\"])"
   ]
  },
  {
   "cell_type": "code",
   "execution_count": 38,
   "id": "19bb8738-d95a-432f-bd97-9c80449e9ff7",
   "metadata": {},
   "outputs": [
    {
     "name": "stdout",
     "output_type": "stream",
     "text": [
      "Exteriorization by anatomic site (procedure)\n",
      "Repair of gallbladder (procedure)\n",
      "Operation on gallbladder (procedure)\n",
      "Biliary tract repair (procedure)\n",
      "Procedure by site (procedure)\n",
      "Exteriorization (procedure)\n"
     ]
    }
   ],
   "source": [
    "# Get parents and grandparents\n",
    "for sctid in SG.get_ancestors(35241000, 2):\n",
    "    print(SG.get_concept(sctid)[\"fsn\"])"
   ]
  },
  {
   "cell_type": "code",
   "execution_count": 39,
   "id": "f611e90c-6759-4c41-a233-24e6c93ad1eb",
   "metadata": {},
   "outputs": [
    {
     "name": "stdout",
     "output_type": "stream",
     "text": [
      "Drainage of spleen by marsupialization (procedure)\n",
      "Exteriorization of trachea (procedure)\n",
      "Computed tomography guidance (procedure)\n",
      "Cholecystostomy using ultrasonographic guidance (procedure)\n",
      "Marsupialization of liver lesion (procedure)\n",
      "Marsupialization of skin lesion (procedure)\n",
      "Marsupialization of diverticulum of urethra (procedure)\n",
      "Operation on gallbladder (procedure)\n",
      "Pharyngostomy (procedure)\n",
      "Formation of cutaneous ureterostomy (procedure)\n",
      "Peritoneal pseudocyst marsupialization (procedure)\n",
      "Cholecystostomy using computed tomography guidance (procedure)\n",
      "Gallbladder closure (procedure)\n",
      "Marsupialization of lesion of kidney (procedure)\n",
      "Laparoscopic procedure (procedure)\n",
      "Creation of cervical tube esophagostomy (procedure)\n",
      "Procedure on pancreas (procedure)\n",
      "Marsupialization of pharyngeal cyst (procedure)\n",
      "Exteriorization by anatomic site (procedure)\n",
      "Exteriorization of maxillary sinus (procedure)\n",
      "Exteriorization of carotid artery (procedure)\n",
      "Percutaneous cholecystostomy (procedure)\n",
      "Procedure on soft tissue (procedure)\n",
      "Endoscopic operation (procedure)\n",
      "Marsupialization of splenic cyst (procedure)\n",
      "Exteriorization (procedure)\n",
      "Exteriorization of intestine (procedure)\n",
      "Marsupialization of submandibular duct (procedure)\n",
      "Calico-ileoneocystostomy (procedure)\n",
      "Fistulization of appendix (procedure)\n",
      "Percutaneous cholecystostomy and drainage using ultrasound guidance (procedure)\n",
      "Marsupialization of lacrimal canaliculus (procedure)\n",
      "Appendicovesicostomy (procedure)\n",
      "Marsupialization of cyst of pancreas (procedure)\n",
      "Marsupialization of dental lesion of jaw (procedure)\n",
      "Repair of gallbladder (procedure)\n",
      "Marsupialization of pilonidal sinus (procedure)\n",
      "Insertion of peripancreatic drain with jejunostomy (procedure)\n",
      "Insertion of peripancreatic drain with cholecystostomy (procedure)\n",
      "Peritoneal cyst marsupialization (procedure)\n",
      "Marsupialization of lesion of vagina (procedure)\n",
      "Oophorostomy (procedure)\n",
      "Marsupialization of cyst of uterine cervix (procedure)\n",
      "Computed tomography of biliary tract (procedure)\n",
      "Marsupialization of lesion of bone of face (procedure)\n",
      "Anastomosis of gall bladder (procedure)\n",
      "Laparoscopic cholecystostomy (procedure)\n",
      "Surgical repair procedure by device (procedure)\n",
      "Marsupialization of sublingual cyst (procedure)\n",
      "Ultrasonic guidance procedure (procedure)\n",
      "Creation of ileostomy (procedure)\n",
      "Gallbladder X-ray (procedure)\n",
      "Marsupialization of prostate (procedure)\n",
      "Procedure by site (procedure)\n",
      "Marsupialization of Bartholin's gland (procedure)\n",
      "Marsupialization of cyst of spinal meninges (procedure)\n",
      "Marsupialization of lesion of vulva (procedure)\n",
      "Endoscopic exteriorization of third ventricle (procedure)\n",
      "Marsupialization of lesion of brain (procedure)\n",
      "Partial resection of colon with stoma (procedure)\n",
      "Radical frontal sinus antrostomy (procedure)\n",
      "Biliary tract repair (procedure)\n",
      "Ultrasound scan of gallbladder (procedure)\n",
      "Repair of laceration of gallbladder (procedure)\n",
      "Gallbladder reconstruction (procedure)\n",
      "Marsupialization of cyst of kidney (procedure)\n",
      "Marsupialization of lesion of ovary (procedure)\n",
      "Marsupialization of dacryocele (procedure)\n",
      "Marsupialization of cyst of salivary gland (procedure)\n",
      "Marsupialization of cyst of larynx (procedure)\n",
      "Cavernostomizing of bulla of lung (procedure)\n",
      "Insertion of drain (procedure)\n",
      "Irrigation cholecystostomy (procedure)\n",
      "Sigmoidostomy (procedure)\n",
      "Cochleostomy (procedure)\n",
      "Marsupialization of cyst of abdominal wall (procedure)\n",
      "Duodenostomy (procedure)\n",
      "Exteriorization of brain ventricular shunt (procedure)\n",
      "Marsupialization of abscess of pharynx (procedure)\n",
      "Urethrostomy (procedure)\n"
     ]
    }
   ],
   "source": [
    "# Get neighbourhood: here we pick all concepts linked by an \"is a\" path of length 2 or less.  \n",
    "# i.e. parents, grandparents, siblings, children, grandchildren and \"spouses\".\n",
    "for sctid in SG.get_neighbourhood(35241000, 2):\n",
    "    print(SG.get_concept(sctid)[\"fsn\"])"
   ]
  },
  {
   "cell_type": "code",
   "execution_count": 40,
   "id": "33678ec7-934d-4054-a902-593f9c72b441",
   "metadata": {},
   "outputs": [
    {
     "name": "stdout",
     "output_type": "stream",
     "text": [
      "(Cholecystostomy (procedure))---[Procedure site - Direct (attribute)]--->(Gallbladder structure (body structure))---[Is a (attribute)]--->(Biliary tract structure (body structure))\n"
     ]
    },
    {
     "data": {
      "text/plain": [
       "[(35241000, 'Procedure site - Direct (attribute)', 28231008),\n",
       " (28231008, 'Is a (attribute)', 34707002)]"
      ]
     },
     "execution_count": 40,
     "metadata": {},
     "output_type": "execute_result"
    }
   ],
   "source": [
    "# Find the path between any two concepts.\n",
    "# Returns a list of (src, relationship_type, tgt) nodes on the shortest path between the concepts.\n",
    "# N.B. this will only return directional paths.\n",
    "SG.find_path(35241000, 34707002, print_=True)"
   ]
  },
  {
   "cell_type": "code",
   "execution_count": 41,
   "id": "6181c8ca-7eb1-4633-a551-907a37a7ac3a",
   "metadata": {},
   "outputs": [],
   "source": [
    "# Iterate over concepts:\n",
    "for concept in iter(SG):\n",
    "    pass"
   ]
  },
  {
   "cell_type": "code",
   "execution_count": 15,
   "id": "4c0d0d0f-8c0d-4c6e-b4fe-30fbb170714c",
   "metadata": {},
   "outputs": [
    {
     "name": "stdout",
     "output_type": "stream",
     "text": [
      "219169 concepts have been selected.\n"
     ]
    }
   ],
   "source": [
    "# Retrieve all concepts for the Entity Linking Challenge\n",
    "# {Procedures} UNION {Body Structures} UNION {Clinical Findings}\n",
    "concepts_in_scope = SG.get_descendants(71388002) | SG.get_descendants(123037004) | SG.get_descendants(404684003)\n",
    "print(f\"{len(concepts_in_scope)} concepts have been selected.\")"
   ]
  },
  {
   "cell_type": "code",
   "execution_count": 47,
   "id": "5d1a6391-f9a3-4462-8024-c3d36f6e15d8",
   "metadata": {},
   "outputs": [],
   "source": [
    "# Fetch nodes and edges as Pandas DataFrames\n",
    "nodes_df, edges_df = SG.to_pandas()"
   ]
  },
  {
   "cell_type": "code",
   "execution_count": 48,
   "id": "7cdbde1b-52ad-465a-ba92-e39641d0548d",
   "metadata": {},
   "outputs": [
    {
     "data": {
      "text/html": [
       "<div>\n",
       "<style scoped>\n",
       "    .dataframe tbody tr th:only-of-type {\n",
       "        vertical-align: middle;\n",
       "    }\n",
       "\n",
       "    .dataframe tbody tr th {\n",
       "        vertical-align: top;\n",
       "    }\n",
       "\n",
       "    .dataframe thead th {\n",
       "        text-align: right;\n",
       "    }\n",
       "</style>\n",
       "<table border=\"1\" class=\"dataframe\">\n",
       "  <thead>\n",
       "    <tr style=\"text-align: right;\">\n",
       "      <th></th>\n",
       "      <th>fsn</th>\n",
       "      <th>synonyms</th>\n",
       "    </tr>\n",
       "    <tr>\n",
       "      <th>sctid</th>\n",
       "      <th></th>\n",
       "      <th></th>\n",
       "    </tr>\n",
       "  </thead>\n",
       "  <tbody>\n",
       "    <tr>\n",
       "      <th>92478005</th>\n",
       "      <td>Benign neoplasm of vermilion border of lip (di...</td>\n",
       "      <td>[Benign neoplasm of vermilion border of lip, B...</td>\n",
       "    </tr>\n",
       "    <tr>\n",
       "      <th>35239001</th>\n",
       "      <td>Aneurysm of visceral artery (disorder)</td>\n",
       "      <td>[Aneurysm of visceral artery]</td>\n",
       "    </tr>\n",
       "    <tr>\n",
       "      <th>432351008</th>\n",
       "      <td>Citricoccus alkalitolerans (organism)</td>\n",
       "      <td>[Citricoccus alkalitolerans]</td>\n",
       "    </tr>\n",
       "  </tbody>\n",
       "</table>\n",
       "</div>"
      ],
      "text/plain": [
       "                                                         fsn  \\\n",
       "sctid                                                          \n",
       "92478005   Benign neoplasm of vermilion border of lip (di...   \n",
       "35239001              Aneurysm of visceral artery (disorder)   \n",
       "432351008              Citricoccus alkalitolerans (organism)   \n",
       "\n",
       "                                                    synonyms  \n",
       "sctid                                                         \n",
       "92478005   [Benign neoplasm of vermilion border of lip, B...  \n",
       "35239001                       [Aneurysm of visceral artery]  \n",
       "432351008                       [Citricoccus alkalitolerans]  "
      ]
     },
     "execution_count": 48,
     "metadata": {},
     "output_type": "execute_result"
    }
   ],
   "source": [
    "nodes_df.sample(3)"
   ]
  },
  {
   "cell_type": "code",
   "execution_count": 49,
   "id": "7c6e6c83-b8d2-4bf1-8d1d-af12d4556013",
   "metadata": {},
   "outputs": [
    {
     "data": {
      "text/html": [
       "<div>\n",
       "<style scoped>\n",
       "    .dataframe tbody tr th:only-of-type {\n",
       "        vertical-align: middle;\n",
       "    }\n",
       "\n",
       "    .dataframe tbody tr th {\n",
       "        vertical-align: top;\n",
       "    }\n",
       "\n",
       "    .dataframe thead th {\n",
       "        text-align: right;\n",
       "    }\n",
       "</style>\n",
       "<table border=\"1\" class=\"dataframe\">\n",
       "  <thead>\n",
       "    <tr style=\"text-align: right;\">\n",
       "      <th></th>\n",
       "      <th>source</th>\n",
       "      <th>target</th>\n",
       "      <th>group</th>\n",
       "      <th>type</th>\n",
       "      <th>type_id</th>\n",
       "    </tr>\n",
       "  </thead>\n",
       "  <tbody>\n",
       "    <tr>\n",
       "      <th>68666</th>\n",
       "      <td>110029007</td>\n",
       "      <td>125618007</td>\n",
       "      <td>0</td>\n",
       "      <td>Is a (attribute)</td>\n",
       "      <td>116680003</td>\n",
       "    </tr>\n",
       "    <tr>\n",
       "      <th>533483</th>\n",
       "      <td>386350007</td>\n",
       "      <td>129445006</td>\n",
       "      <td>1</td>\n",
       "      <td>Method (attribute)</td>\n",
       "      <td>260686004</td>\n",
       "    </tr>\n",
       "    <tr>\n",
       "      <th>557840</th>\n",
       "      <td>398316009</td>\n",
       "      <td>31807009</td>\n",
       "      <td>1</td>\n",
       "      <td>Associated morphology (attribute)</td>\n",
       "      <td>116676008</td>\n",
       "    </tr>\n",
       "  </tbody>\n",
       "</table>\n",
       "</div>"
      ],
      "text/plain": [
       "           source     target  group                               type  \\\n",
       "68666   110029007  125618007      0                   Is a (attribute)   \n",
       "533483  386350007  129445006      1                 Method (attribute)   \n",
       "557840  398316009   31807009      1  Associated morphology (attribute)   \n",
       "\n",
       "          type_id  \n",
       "68666   116680003  \n",
       "533483  260686004  \n",
       "557840  116676008  "
      ]
     },
     "execution_count": 49,
     "metadata": {},
     "output_type": "execute_result"
    }
   ],
   "source": [
    "edges_df.sample(3)"
   ]
  },
  {
   "cell_type": "code",
   "execution_count": 4,
   "id": "0e2615b7-3914-4b76-90c5-74f759d9e270",
   "metadata": {},
   "outputs": [],
   "source": [
    "# Serialize\n",
    "SG.save(\"full_concept_graph.gml\")"
   ]
  },
  {
   "cell_type": "code",
   "execution_count": null,
   "id": "098b2ad9-7482-4f8f-b7b7-cf13e764b66b",
   "metadata": {},
   "outputs": [],
   "source": []
  }
 ],
 "metadata": {
  "kernelspec": {
   "display_name": "Python 3 (ipykernel)",
   "language": "python",
   "name": "python3"
  },
  "language_info": {
   "codemirror_mode": {
    "name": "ipython",
    "version": 3
   },
   "file_extension": ".py",
   "mimetype": "text/x-python",
   "name": "python",
   "nbconvert_exporter": "python",
   "pygments_lexer": "ipython3",
   "version": "3.10.12"
  }
 },
 "nbformat": 4,
 "nbformat_minor": 5
}
